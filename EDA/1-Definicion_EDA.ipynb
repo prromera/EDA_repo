{
 "cells": [
  {
   "cell_type": "markdown",
   "metadata": {},
   "source": [
    "<h1 align=\"center\">Desempeño de los futbolistas en La Liga según su edad</h1>\n"
   ]
  },
  {
   "cell_type": "markdown",
   "metadata": {},
   "source": [
    "<img src=\"./img/logo_liga.jpg\" alt=\"Logo\" style=\"display: block; margin: auto;\" width=\"600\" />\n",
    "\n"
   ]
  },
  {
   "cell_type": "markdown",
   "metadata": {},
   "source": [
    "### TEMA"
   ]
  },
  {
   "cell_type": "markdown",
   "metadata": {},
   "source": [
    "En este EDA investigaremos el desempeño de los jugadores de la liga española de futbol basados en su edad. Para ello utilizaremos una dataset usando los datos de la liga en curso 23-24. Dividiremos a los jugadores en 4 grupos de edad:\n",
    "\n",
    "* desde 16-20 años seran \"youth\".\n",
    "* desde 21-25 años seran \"young\".\n",
    "* desde 26-29 años seran \"ideal\".\n",
    "* desde 30+ años seran \"veteran\".\n"
   ]
  },
  {
   "cell_type": "markdown",
   "metadata": {},
   "source": [
    "### Hipotesis Principal\n",
    "\n",
    "Se espera que los jugadores que esten en la categoria 'ideal', que tienen un balance ideal entre plenitud fisica y experencia, contribuyen en mayor medida a sus equipos."
   ]
  },
  {
   "cell_type": "markdown",
   "metadata": {},
   "source": [
    "### Hipotesis adicionales\n",
    "\n",
    "* Los jugadores veteranos contribuiran en mayor medida que los jovenes mientras mas cercan esten de los 30.\n",
    "* Los jugadadores juveniles aportaran la menor cantidad a sus equipos ya que disponen de menos oportunidades.\n",
    "* Los veteranos, al tener mas experiencia, son los menos amonestados\n",
    "* Los equipos cuya edad promedio esten en edad ideal estaran por encima en la tabla de clasificacion.\n",
    "\n"
   ]
  },
  {
   "cell_type": "markdown",
   "metadata": {},
   "source": [
    "## OBTENCIÓN DE LOS DATOS\n"
   ]
  },
  {
   "cell_type": "markdown",
   "metadata": {},
   "source": [
    "### DATASETS Y FUENTES ALTERNATIVAS DE DATOS"
   ]
  },
  {
   "cell_type": "code",
   "execution_count": 24,
   "metadata": {},
   "outputs": [],
   "source": [
    "import pandas as pd\n",
    "\n",
    "df_gk = pd.read_csv(\"db_gk.csv\")\n",
    "fuente_1 = \"https://www.sofascore.com/tournament/football/spain/laliga/8\"\n",
    "df_def = pd.read_csv(\"db_def.csv\")\n",
    "fuente_2 = \"https://www.sofascore.com/tournament/football/spain/laliga/8\"\n",
    "df_pas = pd.read_csv(\"db_pas.csv\")\n",
    "fuente_3 = \"https://www.sofascore.com/tournament/football/spain/laliga/8\"\n",
    "df_atk = pd.read_csv(\"db_atk.csv\")\n",
    "fuente_4 = \"https://www.sofascore.com/tournament/football/spain/laliga/8\"\n",
    "df_gen = pd.read_csv(\"db_gen.csv\")\n",
    "fuente_5 = \"https://www.sofascore.com/tournament/football/spain/laliga/8\"\n",
    "\n"
   ]
  },
  {
   "cell_type": "markdown",
   "metadata": {},
   "source": [
    "Se realizo un extensivo trabajo de scraping sobre la pagina web de estadisticas deportivas [Sofascore](www.sofascore.com) para conseguir lo datos para este EDA. Los datasets presentados son creados a partir de estos datos extraidos."
   ]
  },
  {
   "cell_type": "code",
   "execution_count": 25,
   "metadata": {},
   "outputs": [],
   "source": [
    "df_def.set_index(\"name\", inplace = True)\n",
    "df_pas.set_index(\"name\", inplace = True)\n",
    "df_atk.set_index(\"name\", inplace = True)\n",
    "df_gk.set_index(\"name\", inplace = True)\n",
    "df_gen.set_index(\"name\", inplace=True)"
   ]
  },
  {
   "cell_type": "code",
   "execution_count": 26,
   "metadata": {},
   "outputs": [
    {
     "name": "stdout",
     "output_type": "stream",
     "text": [
      "                      saves  cleanSheet  penaltySave  savedInsideBox  runsOut  \\\n",
      "name                                                                            \n",
      "Filip Jörgensen          72           2            0              49        3   \n",
      "Stole Dimitrievski       61           7            1              42        5   \n",
      "Álvaro Valles            56           4            0              31       13   \n",
      "Paulo Gazzaniga          56           4            0              36        1   \n",
      "Unai Simón               56           7            1              36        9   \n",
      "David Soria              56           7            0              37       14   \n",
      "Jeremías Ledesma         55           2            0              34        8   \n",
      "Álex Remiro              54           5            0              34       10   \n",
      "Giorgi Mamardashvili     50           5            1              36        5   \n",
      "André Ferreira           47           0            0              28        5   \n",
      "\n",
      "                                team  age ageCategory  \n",
      "name                                                   \n",
      "Filip Jörgensen           Villarreal   21       young  \n",
      "Stole Dimitrievski    Rayo Vallecano   29       ideal  \n",
      "Álvaro Valles             Las Palmas   26       ideal  \n",
      "Paulo Gazzaniga            Girona FC   31     veteran  \n",
      "Unai Simón             Athletic Club   26       ideal  \n",
      "David Soria                   Getafe   30     veteran  \n",
      "Jeremías Ledesma               Cádiz   30     veteran  \n",
      "Álex Remiro            Real Sociedad   28       ideal  \n",
      "Giorgi Mamardashvili        Valencia   23       young  \n",
      "André Ferreira               Granada   27       ideal  \n",
      "<class 'pandas.core.frame.DataFrame'>\n",
      "Index: 33 entries, Filip Jörgensen to Pepe Reina\n",
      "Data columns (total 8 columns):\n",
      " #   Column          Non-Null Count  Dtype \n",
      "---  ------          --------------  ----- \n",
      " 0   saves           33 non-null     int64 \n",
      " 1   cleanSheet      33 non-null     int64 \n",
      " 2   penaltySave     33 non-null     int64 \n",
      " 3   savedInsideBox  33 non-null     int64 \n",
      " 4   runsOut         33 non-null     int64 \n",
      " 5   team            33 non-null     object\n",
      " 6   age             33 non-null     int64 \n",
      " 7   ageCategory     33 non-null     object\n",
      "dtypes: int64(6), object(2)\n",
      "memory usage: 2.3+ KB\n"
     ]
    }
   ],
   "source": [
    "# dataset de porteros\n",
    "print(df_gk.head(10))\n",
    "df_gk.info()"
   ]
  },
  {
   "cell_type": "code",
   "execution_count": 27,
   "metadata": {},
   "outputs": [
    {
     "name": "stdout",
     "output_type": "stream",
     "text": [
      "                 tackles  interceptions  clearances  errorLeadToGoal  \\\n",
      "name                                                                   \n",
      "Sergi Cardona         50             27          43                0   \n",
      "Óscar Valentín        49             12          22                1   \n",
      "Samuel Costa          45             23          27                0   \n",
      "José Luis Gayà        43              4          18                0   \n",
      "Alfonso Espino        43             18          28                0   \n",
      "Rubén Alcaraz         42             12          24                0   \n",
      "Thierry Correia       42             27          29                0   \n",
      "João Cancelo          39              8          18                0   \n",
      "Pepelu                39             18          33                0   \n",
      "Gavi                  39              8          15                1   \n",
      "\n",
      "                           team  age ageCategory  \n",
      "name                                              \n",
      "Sergi Cardona        Las Palmas   24       young  \n",
      "Óscar Valentín   Rayo Vallecano   29       ideal  \n",
      "Samuel Costa           Mallorca   23       young  \n",
      "José Luis Gayà         Valencia   28       ideal  \n",
      "Alfonso Espino   Rayo Vallecano   31     veteran  \n",
      "Rubén Alcaraz             Cádiz   32     veteran  \n",
      "Thierry Correia        Valencia   24       young  \n",
      "João Cancelo          Barcelona   29       ideal  \n",
      "Pepelu                 Valencia   25       young  \n",
      "Gavi                  Barcelona   19       youth  \n",
      "<class 'pandas.core.frame.DataFrame'>\n",
      "Index: 495 entries, Sergi Cardona to Moussa Diakité\n",
      "Data columns (total 7 columns):\n",
      " #   Column           Non-Null Count  Dtype \n",
      "---  ------           --------------  ----- \n",
      " 0   tackles          495 non-null    int64 \n",
      " 1   interceptions    495 non-null    int64 \n",
      " 2   clearances       495 non-null    int64 \n",
      " 3   errorLeadToGoal  495 non-null    int64 \n",
      " 4   team             495 non-null    object\n",
      " 5   age              495 non-null    int64 \n",
      " 6   ageCategory      495 non-null    object\n",
      "dtypes: int64(5), object(2)\n",
      "memory usage: 30.9+ KB\n"
     ]
    }
   ],
   "source": [
    "# dataset de estadisticas defensivas\n",
    "print(df_def.head(10))\n",
    "df_def.info()"
   ]
  },
  {
   "cell_type": "code",
   "execution_count": 28,
   "metadata": {},
   "outputs": [
    {
     "name": "stdout",
     "output_type": "stream",
     "text": [
      "                  bigChancesCreated  assists  accuratePasses  accuratePasses%  \\\n",
      "name                                                                            \n",
      "Iago Aspas                       10        4             411            80.75   \n",
      "Takefusa Kubo                     8        3             270            79.88   \n",
      "Roger Martí                       8        2             144            65.45   \n",
      "İlkay Gündoğan                    7        3             999            90.16   \n",
      "Isco                              7        2             655            86.07   \n",
      "Sávio                             7        5             347            83.01   \n",
      "Alejandro Baena                   7        5             395            81.95   \n",
      "Saúl Ñíguez                       7        5             338            85.79   \n",
      "Viktor Tsygankov                  7        3             292            82.95   \n",
      "Marcos Llorente                   7        2             372            81.58   \n",
      "\n",
      "                  keyPasses             team  age ageCategory  \n",
      "name                                                           \n",
      "Iago Aspas               52       Celta Vigo   36     veteran  \n",
      "Takefusa Kubo            29    Real Sociedad   22       young  \n",
      "Roger Martí              10            Cádiz   32     veteran  \n",
      "İlkay Gündoğan           37        Barcelona   33     veteran  \n",
      "Isco                     51       Real Betis   31     veteran  \n",
      "Sávio                    21        Girona FC   19       youth  \n",
      "Alejandro Baena          33       Villarreal   22       young  \n",
      "Saúl Ñíguez               9  Atlético Madrid   29       ideal  \n",
      "Viktor Tsygankov         18        Girona FC   26       ideal  \n",
      "Marcos Llorente          14  Atlético Madrid   28       ideal  \n",
      "<class 'pandas.core.frame.DataFrame'>\n",
      "Index: 495 entries, Iago Aspas to Moussa Diakité\n",
      "Data columns (total 8 columns):\n",
      " #   Column             Non-Null Count  Dtype  \n",
      "---  ------             --------------  -----  \n",
      " 0   bigChancesCreated  495 non-null    int64  \n",
      " 1   assists            495 non-null    int64  \n",
      " 2   accuratePasses     495 non-null    int64  \n",
      " 3   accuratePasses%    495 non-null    float64\n",
      " 4   keyPasses          495 non-null    int64  \n",
      " 5   team               495 non-null    object \n",
      " 6   age                495 non-null    int64  \n",
      " 7   ageCategory        495 non-null    object \n",
      "dtypes: float64(1), int64(5), object(2)\n",
      "memory usage: 34.8+ KB\n"
     ]
    }
   ],
   "source": [
    "# dataset de estadisticas de pase\n",
    "print(df_pas.head(10))\n",
    "df_pas.info()"
   ]
  },
  {
   "cell_type": "code",
   "execution_count": 29,
   "metadata": {},
   "outputs": [
    {
     "name": "stdout",
     "output_type": "stream",
     "text": [
      "                    goals     xG  bigChancesMissed  successfulDribbles  \\\n",
      "name                                                                     \n",
      "Jude Bellingham        12   6.80                 5                  27   \n",
      "Borja Mayoral          10   7.73                 5                  14   \n",
      "Antoine Griezmann       9   6.39                 6                  16   \n",
      "Gerard Moreno           8   5.18                 2                  22   \n",
      "Iñaki Williams          8   5.40                 5                  31   \n",
      "Ante Budimir            8   7.10                 6                   6   \n",
      "Artem Dovbyk            8   7.31                 7                   6   \n",
      "Gorka Guruzeta          8   6.44                 4                   9   \n",
      "Robert Lewandowski      8  10.79                13                  10   \n",
      "Álvaro Morata           8   6.58                10                  13   \n",
      "\n",
      "                    totalShots  goalConversion%             team  age  \\\n",
      "name                                                                    \n",
      "Jude Bellingham             34            35.29      Real Madrid   20   \n",
      "Borja Mayoral               32            31.25           Getafe   26   \n",
      "Antoine Griezmann           34            26.47  Atlético Madrid   32   \n",
      "Gerard Moreno               31            25.81       Villarreal   31   \n",
      "Iñaki Williams              50            16.00    Athletic Club   29   \n",
      "Ante Budimir                40            20.00          Osasuna   32   \n",
      "Artem Dovbyk                38            21.05        Girona FC   26   \n",
      "Gorka Guruzeta              33            24.24    Athletic Club   27   \n",
      "Robert Lewandowski          49            16.33        Barcelona   35   \n",
      "Álvaro Morata               37            21.62  Atlético Madrid   31   \n",
      "\n",
      "                   ageCategory  \n",
      "name                            \n",
      "Jude Bellingham          youth  \n",
      "Borja Mayoral            ideal  \n",
      "Antoine Griezmann      veteran  \n",
      "Gerard Moreno          veteran  \n",
      "Iñaki Williams           ideal  \n",
      "Ante Budimir           veteran  \n",
      "Artem Dovbyk             ideal  \n",
      "Gorka Guruzeta           ideal  \n",
      "Robert Lewandowski     veteran  \n",
      "Álvaro Morata          veteran  \n",
      "<class 'pandas.core.frame.DataFrame'>\n",
      "Index: 495 entries, Jude Bellingham to Moussa Diakité\n",
      "Data columns (total 9 columns):\n",
      " #   Column              Non-Null Count  Dtype  \n",
      "---  ------              --------------  -----  \n",
      " 0   goals               495 non-null    int64  \n",
      " 1   xG                  495 non-null    float64\n",
      " 2   bigChancesMissed    495 non-null    int64  \n",
      " 3   successfulDribbles  495 non-null    int64  \n",
      " 4   totalShots          495 non-null    int64  \n",
      " 5   goalConversion%     495 non-null    float64\n",
      " 6   team                495 non-null    object \n",
      " 7   age                 495 non-null    int64  \n",
      " 8   ageCategory         495 non-null    object \n",
      "dtypes: float64(2), int64(5), object(2)\n",
      "memory usage: 38.7+ KB\n"
     ]
    }
   ],
   "source": [
    "# dataset de estadisticas de ataque\n",
    "print(df_atk.head(10))\n",
    "df_atk.info()"
   ]
  },
  {
   "cell_type": "code",
   "execution_count": 30,
   "metadata": {},
   "outputs": [
    {
     "name": "stdout",
     "output_type": "stream",
     "text": [
      "                 appearances  matchesStarted  minutesPlayed  yellowCards  \\\n",
      "name                                                                       \n",
      "Jude Bellingham           14              14           1205            2   \n",
      "Aleix García              16              16           1440            1   \n",
      "Toni Kroos                16              10            974            2   \n",
      "Gerard Moreno             14              13           1081            0   \n",
      "Ivan Rakitić              15              14           1268            5   \n",
      "Takefusa Kubo             16              14           1240            1   \n",
      "Iñaki Williams            17              17           1479            2   \n",
      "Pedri                      8               7            617            2   \n",
      "Andriy Lunin               6               6            540            0   \n",
      "Rodrygo                   16              13           1143            0   \n",
      "\n",
      "                 redCards  rating           team  age ageCategory  \n",
      "name                                                               \n",
      "Jude Bellingham         0    8.16    Real Madrid   20       youth  \n",
      "Aleix García            0    7.76      Girona FC   26       ideal  \n",
      "Toni Kroos              0    7.59    Real Madrid   33     veteran  \n",
      "Gerard Moreno           0    7.57     Villarreal   31     veteran  \n",
      "Ivan Rakitić            0    7.55        Sevilla   35     veteran  \n",
      "Takefusa Kubo           0    7.55  Real Sociedad   22       young  \n",
      "Iñaki Williams          0    7.55  Athletic Club   29       ideal  \n",
      "Pedri                   0    7.53      Barcelona   21       young  \n",
      "Andriy Lunin            0    7.52    Real Madrid   24       young  \n",
      "Rodrygo                 0    7.50    Real Madrid   22       young  \n",
      "<class 'pandas.core.frame.DataFrame'>\n",
      "Index: 495 entries, Jude Bellingham to Moussa Diakité\n",
      "Data columns (total 9 columns):\n",
      " #   Column          Non-Null Count  Dtype  \n",
      "---  ------          --------------  -----  \n",
      " 0   appearances     495 non-null    int64  \n",
      " 1   matchesStarted  495 non-null    int64  \n",
      " 2   minutesPlayed   495 non-null    int64  \n",
      " 3   yellowCards     495 non-null    int64  \n",
      " 4   redCards        495 non-null    int64  \n",
      " 5   rating          495 non-null    float64\n",
      " 6   team            495 non-null    object \n",
      " 7   age             495 non-null    int64  \n",
      " 8   ageCategory     495 non-null    object \n",
      "dtypes: float64(1), int64(6), object(2)\n",
      "memory usage: 38.7+ KB\n"
     ]
    }
   ],
   "source": [
    "# dataset de estadisticas generales\n",
    "print(df_gen.head(10))\n",
    "df_gen.info()"
   ]
  },
  {
   "cell_type": "code",
   "execution_count": null,
   "metadata": {},
   "outputs": [],
   "source": []
  }
 ],
 "metadata": {
  "kernelspec": {
   "display_name": "Python 3 (ipykernel)",
   "language": "python",
   "name": "python3"
  },
  "language_info": {
   "codemirror_mode": {
    "name": "ipython",
    "version": 3
   },
   "file_extension": ".py",
   "mimetype": "text/x-python",
   "name": "python",
   "nbconvert_exporter": "python",
   "pygments_lexer": "ipython3",
   "version": "3.12.0"
  },
  "vscode": {
   "interpreter": {
    "hash": "90139cb9a825bf3d63f6f6704e828dbd1ff7edbd4d0c6e906a71235d6efc74af"
   }
  }
 },
 "nbformat": 4,
 "nbformat_minor": 4
}
